{
  "nbformat": 4,
  "nbformat_minor": 0,
  "metadata": {
    "colab": {
      "name": "AI-ML-Chat-analyzer.ipynb",
      "provenance": [],
      "toc_visible": true
    },
    "kernelspec": {
      "name": "python3",
      "display_name": "Python 3"
    }
  },
  "cells": [
    {
      "cell_type": "code",
      "metadata": {
        "id": "OMZcvJnQ05Vo"
      },
      "source": [
        ""
      ],
      "execution_count": null,
      "outputs": []
    },
    {
      "cell_type": "markdown",
      "metadata": {
        "id": "fy0oUHQvjEeZ"
      },
      "source": [
        "# **whatsapp group analyzer** "
      ]
    },
    {
      "cell_type": "markdown",
      "metadata": {
        "id": "T9EOZEXd07We"
      },
      "source": [
        "importing the libraries\n"
      ]
    },
    {
      "cell_type": "code",
      "metadata": {
        "id": "oJFFdJOxjYQv"
      },
      "source": [
        ""
      ],
      "execution_count": null,
      "outputs": []
    },
    {
      "cell_type": "code",
      "metadata": {
        "id": "6u0-yzsm05J5"
      },
      "source": [
        "import pandas as pd\n",
        "import re\n",
        "import matplotlib.pyplot as plt"
      ],
      "execution_count": null,
      "outputs": []
    },
    {
      "cell_type": "markdown",
      "metadata": {
        "id": "Gr_nj36h1EFt"
      },
      "source": [
        "\n",
        "\n",
        "we start by checking whether a certain line in the whatsapp.text starts with date and time"
      ]
    },
    {
      "cell_type": "code",
      "metadata": {
        "id": "O41VDBHrqUNU"
      },
      "source": [
        "def startsWithDate(s):\n",
        "    pattern = '^([0-2][0-9]|(3)[0-1])(\\/)(((0)[0-9])|((1)[0-2]))(\\/)(\\d{2}|\\d{4}), ([0-9][0-9]):([0-9][0-9]) -'\n",
        "    result = re.match(pattern, s)\n",
        "    if result:\n",
        "        return True\n",
        "    return False"
      ],
      "execution_count": 1,
      "outputs": []
    },
    {
      "cell_type": "markdown",
      "metadata": {
        "id": "7MWNZ14m10CS"
      },
      "source": [
        "detecting the author of certain message in the data"
      ]
    },
    {
      "cell_type": "code",
      "metadata": {
        "id": "eVaqFghcrGRP"
      },
      "source": [
        "def startsWithAuthor(s):\n",
        "    patterns = [\n",
        "        '([\\w]+):',                        # First Name\n",
        "        '([\\w]+[\\s]+[\\w]+):',              # First Name + Last Name\n",
        "        '([\\w]+[\\s]+[\\w]+[\\s]+[\\w]+):',    # First Name + Middle Name + Last Name\n",
        "        '([+]\\d{2} \\d{5} \\d{5}):',         # Mobile Number (India)\n",
        "        '([+]\\d{2} \\d{3} \\d{3} \\d{4}):',   # Mobile Number (US)\n",
        "        '([+]\\d{2} \\d{4} \\d{7})',          #mobile number Europe\n",
        "        '^(?:\\+254|254)(\\d{9})$'         # Mobile Number (Kenya)\n",
        "    ]\n",
        "    pattern = '^' + '|'.join(patterns)\n",
        "    result = re.match(pattern, s)\n",
        "    if result:\n",
        "        return True\n",
        "    return False"
      ],
      "execution_count": 2,
      "outputs": []
    },
    {
      "cell_type": "code",
      "metadata": {
        "id": "Gw37tDgJrGUB"
      },
      "source": [
        "def getDataPoint(line):\n",
        "        \n",
        "    splitLine = line.split(' - ') \n",
        "\n",
        "    dateTime = splitLine[0] # example of a dateTime = 18/10/2020\n",
        "    \n",
        "    date, time = dateTime.split(', ') \n",
        "    \n",
        "    message = ' '.join(splitLine[1:]) \n",
        "    \n",
        "    if startsWithAuthor(message): \n",
        "        splitMessage = message.split(': ') \n",
        "        author = splitMessage[0] \n",
        "        message = ' '.join(splitMessage[1:]) \n",
        "    else:\n",
        "        author = None\n",
        "    return date, time, author, message"
      ],
      "execution_count": 4,
      "outputs": []
    },
    {
      "cell_type": "markdown",
      "metadata": {
        "id": "L4ax_x-R3_jk"
      },
      "source": [
        "loading the data which was saved in the google drive as a .txt file"
      ]
    },
    {
      "cell_type": "code",
      "metadata": {
        "id": "fypo3G9M334g",
        "outputId": "7868a722-38a6-46ad-f2bc-c608a40a0931",
        "colab": {
          "base_uri": "https://localhost:8080/",
          "height": 231
        }
      },
      "source": [
        "parsedData = [] # a list that will help to keep track of data \n",
        "conversationPath = '/content/drive/My Drive/Whatsapp data/WhatsApp Chat with AI-ML -2 -2020.txt' #loading the data\n",
        "with open(conversationPath, encoding=\"utf-8\") as fp:\n",
        "    fp.readline() # Skipping first line of the file which contains information about end-to-end encryption)\n",
        "        \n",
        "    messageBuffer = [] # Buffer to capture intermediate output for multi-line messages\n",
        "    date, time, author = None, None, None # Intermediate variables to keep track of the current message being processed\n",
        "    \n",
        "    while True:\n",
        "        line = fp.readline() \n",
        "        if not line: # Stop reading further if end of file has been reached\n",
        "            break\n",
        "        line = line.strip() # Guarding against erroneous leading and trailing whitespaces\n",
        "        if startsWithDate(line): # If a line starts with a Date Time pattern, then this indicates the beginning of a new message\n",
        "            if len(messageBuffer) > 0: # Check if the message buffer contains characters from previous iterations\n",
        "                parsedData.append([date, time, author, ' '.join(messageBuffer)]) # Save the tokens from the previous message in parsedData\n",
        "            messageBuffer.clear() \n",
        "            date, time, author, message = getDataPoint(line) # Identify and extract tokens from the line\n",
        "            messageBuffer.append(message) \n",
        "        else:\n",
        "            messageBuffer.append(line) # If a line doesn't start with a Date Time pattern, then it is part of a multi-line message. So, just append to buffer\n"
      ],
      "execution_count": 5,
      "outputs": [
        {
          "output_type": "error",
          "ename": "FileNotFoundError",
          "evalue": "ignored",
          "traceback": [
            "\u001b[0;31m---------------------------------------------------------------------------\u001b[0m",
            "\u001b[0;31mFileNotFoundError\u001b[0m                         Traceback (most recent call last)",
            "\u001b[0;32m<ipython-input-5-addf9013b412>\u001b[0m in \u001b[0;36m<module>\u001b[0;34m()\u001b[0m\n\u001b[1;32m      1\u001b[0m \u001b[0mparsedData\u001b[0m \u001b[0;34m=\u001b[0m \u001b[0;34m[\u001b[0m\u001b[0;34m]\u001b[0m \u001b[0;31m# a list that will help to keep track of data\u001b[0m\u001b[0;34m\u001b[0m\u001b[0;34m\u001b[0m\u001b[0m\n\u001b[1;32m      2\u001b[0m \u001b[0mconversationPath\u001b[0m \u001b[0;34m=\u001b[0m \u001b[0;34m'/content/drive/My Drive/Whatsapp data/WhatsApp Chat with AI-ML -2 -2020.txt'\u001b[0m \u001b[0;31m#loading the data\u001b[0m\u001b[0;34m\u001b[0m\u001b[0;34m\u001b[0m\u001b[0m\n\u001b[0;32m----> 3\u001b[0;31m \u001b[0;32mwith\u001b[0m \u001b[0mopen\u001b[0m\u001b[0;34m(\u001b[0m\u001b[0mconversationPath\u001b[0m\u001b[0;34m,\u001b[0m \u001b[0mencoding\u001b[0m\u001b[0;34m=\u001b[0m\u001b[0;34m\"utf-8\"\u001b[0m\u001b[0;34m)\u001b[0m \u001b[0;32mas\u001b[0m \u001b[0mfp\u001b[0m\u001b[0;34m:\u001b[0m\u001b[0;34m\u001b[0m\u001b[0;34m\u001b[0m\u001b[0m\n\u001b[0m\u001b[1;32m      4\u001b[0m     \u001b[0mfp\u001b[0m\u001b[0;34m.\u001b[0m\u001b[0mreadline\u001b[0m\u001b[0;34m(\u001b[0m\u001b[0;34m)\u001b[0m \u001b[0;31m# Skipping first line of the file which contains information about end-to-end encryption)\u001b[0m\u001b[0;34m\u001b[0m\u001b[0;34m\u001b[0m\u001b[0m\n\u001b[1;32m      5\u001b[0m \u001b[0;34m\u001b[0m\u001b[0m\n",
            "\u001b[0;31mFileNotFoundError\u001b[0m: [Errno 2] No such file or directory: '/content/drive/My Drive/Whatsapp data/WhatsApp Chat with AI-ML -2 -2020.txt'"
          ]
        }
      ]
    },
    {
      "cell_type": "code",
      "metadata": {
        "id": "JYzzo7GDgRkv",
        "outputId": "c780dcf6-7df4-4e46-f979-23f7b6a92a3e",
        "colab": {
          "base_uri": "https://localhost:8080/"
        }
      },
      "source": [
        "from google.colab import drive\n",
        "drive.mount('/content/drive')"
      ],
      "execution_count": null,
      "outputs": [
        {
          "output_type": "stream",
          "text": [
            "Mounted at /content/drive\n"
          ],
          "name": "stdout"
        }
      ]
    },
    {
      "cell_type": "markdown",
      "metadata": {
        "id": "RX1PRlk42dHK"
      },
      "source": [
        "splitting the string based on the token of interest"
      ]
    },
    {
      "cell_type": "markdown",
      "metadata": {
        "id": "KQQE36cG4H16"
      },
      "source": [
        "tabulating the data using pandas for the first 20 elements"
      ]
    },
    {
      "cell_type": "code",
      "metadata": {
        "id": "-efV7-5utqFr",
        "outputId": "3c2491d3-ca10-4439-c0db-d71604ba191b",
        "colab": {
          "base_uri": "https://localhost:8080/",
          "height": 669
        }
      },
      "source": [
        "df = pd.DataFrame(parsedData, columns=['Date', 'Time', 'Author', 'Message'])\n",
        "df.head(20)"
      ],
      "execution_count": null,
      "outputs": [
        {
          "output_type": "execute_result",
          "data": {
            "text/html": [
              "<div>\n",
              "<style scoped>\n",
              "    .dataframe tbody tr th:only-of-type {\n",
              "        vertical-align: middle;\n",
              "    }\n",
              "\n",
              "    .dataframe tbody tr th {\n",
              "        vertical-align: top;\n",
              "    }\n",
              "\n",
              "    .dataframe thead th {\n",
              "        text-align: right;\n",
              "    }\n",
              "</style>\n",
              "<table border=\"1\" class=\"dataframe\">\n",
              "  <thead>\n",
              "    <tr style=\"text-align: right;\">\n",
              "      <th></th>\n",
              "      <th>Date</th>\n",
              "      <th>Time</th>\n",
              "      <th>Author</th>\n",
              "      <th>Message</th>\n",
              "    </tr>\n",
              "  </thead>\n",
              "  <tbody>\n",
              "    <tr>\n",
              "      <th>0</th>\n",
              "      <td>02/10/2020</td>\n",
              "      <td>18:20</td>\n",
              "      <td>None</td>\n",
              "      <td>+254 799 619965 created group \"AI-ML\"</td>\n",
              "    </tr>\n",
              "    <tr>\n",
              "      <th>1</th>\n",
              "      <td>02/10/2020</td>\n",
              "      <td>18:23</td>\n",
              "      <td>None</td>\n",
              "      <td>You joined using this group's invite link</td>\n",
              "    </tr>\n",
              "    <tr>\n",
              "      <th>2</th>\n",
              "      <td>02/10/2020</td>\n",
              "      <td>18:23</td>\n",
              "      <td>None</td>\n",
              "      <td>+254 740 623000 joined using this group's invi...</td>\n",
              "    </tr>\n",
              "    <tr>\n",
              "      <th>3</th>\n",
              "      <td>02/10/2020</td>\n",
              "      <td>18:23</td>\n",
              "      <td>None</td>\n",
              "      <td>+254 719 379216 joined using this group's invi...</td>\n",
              "    </tr>\n",
              "    <tr>\n",
              "      <th>4</th>\n",
              "      <td>02/10/2020</td>\n",
              "      <td>18:23</td>\n",
              "      <td>None</td>\n",
              "      <td>+254 720 641526 joined using this group's invi...</td>\n",
              "    </tr>\n",
              "    <tr>\n",
              "      <th>5</th>\n",
              "      <td>02/10/2020</td>\n",
              "      <td>18:24</td>\n",
              "      <td>None</td>\n",
              "      <td>+254 785 656330 joined using this group's invi...</td>\n",
              "    </tr>\n",
              "    <tr>\n",
              "      <th>6</th>\n",
              "      <td>02/10/2020</td>\n",
              "      <td>18:24</td>\n",
              "      <td>None</td>\n",
              "      <td>+254 712 102104 joined using this group's invi...</td>\n",
              "    </tr>\n",
              "    <tr>\n",
              "      <th>7</th>\n",
              "      <td>02/10/2020</td>\n",
              "      <td>18:24</td>\n",
              "      <td>None</td>\n",
              "      <td>+254 702 671007 joined using this group's invi...</td>\n",
              "    </tr>\n",
              "    <tr>\n",
              "      <th>8</th>\n",
              "      <td>02/10/2020</td>\n",
              "      <td>18:24</td>\n",
              "      <td>None</td>\n",
              "      <td>+254 715 762177 joined using this group's invi...</td>\n",
              "    </tr>\n",
              "    <tr>\n",
              "      <th>9</th>\n",
              "      <td>02/10/2020</td>\n",
              "      <td>18:25</td>\n",
              "      <td>None</td>\n",
              "      <td>+254 716 180656 joined using this group's invi...</td>\n",
              "    </tr>\n",
              "    <tr>\n",
              "      <th>10</th>\n",
              "      <td>02/10/2020</td>\n",
              "      <td>18:25</td>\n",
              "      <td>None</td>\n",
              "      <td>+254 724 375188 joined using this group's invi...</td>\n",
              "    </tr>\n",
              "    <tr>\n",
              "      <th>11</th>\n",
              "      <td>02/10/2020</td>\n",
              "      <td>18:26</td>\n",
              "      <td>None</td>\n",
              "      <td>+254 743 517855 joined using this group's invi...</td>\n",
              "    </tr>\n",
              "    <tr>\n",
              "      <th>12</th>\n",
              "      <td>02/10/2020</td>\n",
              "      <td>18:30</td>\n",
              "      <td>None</td>\n",
              "      <td>+254 722 546317 joined using this group's invi...</td>\n",
              "    </tr>\n",
              "    <tr>\n",
              "      <th>13</th>\n",
              "      <td>02/10/2020</td>\n",
              "      <td>18:30</td>\n",
              "      <td>None</td>\n",
              "      <td>+254 713 395107 joined using this group's invi...</td>\n",
              "    </tr>\n",
              "    <tr>\n",
              "      <th>14</th>\n",
              "      <td>02/10/2020</td>\n",
              "      <td>18:31</td>\n",
              "      <td>None</td>\n",
              "      <td>+254 711 144488 joined using this group's invi...</td>\n",
              "    </tr>\n",
              "    <tr>\n",
              "      <th>15</th>\n",
              "      <td>02/10/2020</td>\n",
              "      <td>18:34</td>\n",
              "      <td>None</td>\n",
              "      <td>+254 786 946474 joined using this group's invi...</td>\n",
              "    </tr>\n",
              "    <tr>\n",
              "      <th>16</th>\n",
              "      <td>02/10/2020</td>\n",
              "      <td>18:43</td>\n",
              "      <td>None</td>\n",
              "      <td>+254 726 715680 joined using this group's invi...</td>\n",
              "    </tr>\n",
              "    <tr>\n",
              "      <th>17</th>\n",
              "      <td>02/10/2020</td>\n",
              "      <td>19:00</td>\n",
              "      <td>None</td>\n",
              "      <td>+254 733 567757 joined using this group's invi...</td>\n",
              "    </tr>\n",
              "    <tr>\n",
              "      <th>18</th>\n",
              "      <td>02/10/2020</td>\n",
              "      <td>19:01</td>\n",
              "      <td>None</td>\n",
              "      <td>+254 799 945690 joined using this group's invi...</td>\n",
              "    </tr>\n",
              "    <tr>\n",
              "      <th>19</th>\n",
              "      <td>02/10/2020</td>\n",
              "      <td>19:04</td>\n",
              "      <td>None</td>\n",
              "      <td>+254 791 154075 joined using this group's invi...</td>\n",
              "    </tr>\n",
              "  </tbody>\n",
              "</table>\n",
              "</div>"
            ],
            "text/plain": [
              "          Date   Time Author                                            Message\n",
              "0   02/10/2020  18:20   None              +254 799 619965 created group \"AI-ML\"\n",
              "1   02/10/2020  18:23   None          You joined using this group's invite link\n",
              "2   02/10/2020  18:23   None  +254 740 623000 joined using this group's invi...\n",
              "3   02/10/2020  18:23   None  +254 719 379216 joined using this group's invi...\n",
              "4   02/10/2020  18:23   None  +254 720 641526 joined using this group's invi...\n",
              "5   02/10/2020  18:24   None  +254 785 656330 joined using this group's invi...\n",
              "6   02/10/2020  18:24   None  +254 712 102104 joined using this group's invi...\n",
              "7   02/10/2020  18:24   None  +254 702 671007 joined using this group's invi...\n",
              "8   02/10/2020  18:24   None  +254 715 762177 joined using this group's invi...\n",
              "9   02/10/2020  18:25   None  +254 716 180656 joined using this group's invi...\n",
              "10  02/10/2020  18:25   None  +254 724 375188 joined using this group's invi...\n",
              "11  02/10/2020  18:26   None  +254 743 517855 joined using this group's invi...\n",
              "12  02/10/2020  18:30   None  +254 722 546317 joined using this group's invi...\n",
              "13  02/10/2020  18:30   None  +254 713 395107 joined using this group's invi...\n",
              "14  02/10/2020  18:31   None  +254 711 144488 joined using this group's invi...\n",
              "15  02/10/2020  18:34   None  +254 786 946474 joined using this group's invi...\n",
              "16  02/10/2020  18:43   None  +254 726 715680 joined using this group's invi...\n",
              "17  02/10/2020  19:00   None  +254 733 567757 joined using this group's invi...\n",
              "18  02/10/2020  19:01   None  +254 799 945690 joined using this group's invi...\n",
              "19  02/10/2020  19:04   None  +254 791 154075 joined using this group's invi..."
            ]
          },
          "metadata": {
            "tags": []
          },
          "execution_count": 10
        }
      ]
    },
    {
      "cell_type": "markdown",
      "metadata": {
        "id": "wozFsd694TG0"
      },
      "source": [
        "describing the data frame"
      ]
    },
    {
      "cell_type": "code",
      "metadata": {
        "id": "SdKDMNR9tqCb",
        "outputId": "42fd34df-75c9-4cb8-b6bb-aefd23289b47",
        "colab": {
          "base_uri": "https://localhost:8080/",
          "height": 173
        }
      },
      "source": [
        "#here it will show the number of entries, and the entry that occurs most frequently and in the case its Eugene\n",
        "df.describe()"
      ],
      "execution_count": null,
      "outputs": [
        {
          "output_type": "execute_result",
          "data": {
            "text/html": [
              "<div>\n",
              "<style scoped>\n",
              "    .dataframe tbody tr th:only-of-type {\n",
              "        vertical-align: middle;\n",
              "    }\n",
              "\n",
              "    .dataframe tbody tr th {\n",
              "        vertical-align: top;\n",
              "    }\n",
              "\n",
              "    .dataframe thead th {\n",
              "        text-align: right;\n",
              "    }\n",
              "</style>\n",
              "<table border=\"1\" class=\"dataframe\">\n",
              "  <thead>\n",
              "    <tr style=\"text-align: right;\">\n",
              "      <th></th>\n",
              "      <th>Date</th>\n",
              "      <th>Time</th>\n",
              "      <th>Author</th>\n",
              "      <th>Message</th>\n",
              "    </tr>\n",
              "  </thead>\n",
              "  <tbody>\n",
              "    <tr>\n",
              "      <th>count</th>\n",
              "      <td>219</td>\n",
              "      <td>219</td>\n",
              "      <td>5</td>\n",
              "      <td>219</td>\n",
              "    </tr>\n",
              "    <tr>\n",
              "      <th>unique</th>\n",
              "      <td>20</td>\n",
              "      <td>158</td>\n",
              "      <td>1</td>\n",
              "      <td>200</td>\n",
              "    </tr>\n",
              "    <tr>\n",
              "      <th>top</th>\n",
              "      <td>02/10/2020</td>\n",
              "      <td>19:49</td>\n",
              "      <td>Debugger</td>\n",
              "      <td>+254 704 452000: &lt;Media omitted&gt;</td>\n",
              "    </tr>\n",
              "    <tr>\n",
              "      <th>freq</th>\n",
              "      <td>43</td>\n",
              "      <td>5</td>\n",
              "      <td>5</td>\n",
              "      <td>15</td>\n",
              "    </tr>\n",
              "  </tbody>\n",
              "</table>\n",
              "</div>"
            ],
            "text/plain": [
              "              Date   Time    Author                           Message\n",
              "count          219    219         5                               219\n",
              "unique          20    158         1                               200\n",
              "top     02/10/2020  19:49  Debugger  +254 704 452000: <Media omitted>\n",
              "freq            43      5         5                                15"
            ]
          },
          "metadata": {
            "tags": []
          },
          "execution_count": 11
        }
      ]
    },
    {
      "cell_type": "markdown",
      "metadata": {
        "id": "1Q67EIxu4tRD"
      },
      "source": [
        "plotting the people who sends messages most"
      ]
    },
    {
      "cell_type": "code",
      "metadata": {
        "id": "NizBcE4FwVWh",
        "outputId": "5dfc7d69-e99a-4e72-ae89-2ee323330ad2",
        "colab": {
          "base_uri": "https://localhost:8080/",
          "height": 282
        }
      },
      "source": [
        "author_value_counts = df['Author'].value_counts() # Number of messages per author\n",
        "top_10_author_value_counts = author_value_counts.head(10) # Number of messages per author for the top 10 most active authors\n",
        "top_10_author_value_counts.plot.barh() # Plot a bar chart using pandas built-in plotting apis"
      ],
      "execution_count": null,
      "outputs": [
        {
          "output_type": "execute_result",
          "data": {
            "text/plain": [
              "<matplotlib.axes._subplots.AxesSubplot at 0x7f814d5f36d8>"
            ]
          },
          "metadata": {
            "tags": []
          },
          "execution_count": 12
        },
        {
          "output_type": "display_data",
          "data": {
            "image/png": "[encoded data removed]",
            "text/plain": [
              "<Figure size 432x288 with 1 Axes>"
            ]
          },
          "metadata": {
            "tags": [],
            "needs_background": "light"
          }
        }
      ]
    },
    {
      "cell_type": "markdown",
      "metadata": {
        "id": "acu0N2mj470-"
      },
      "source": [
        "messages that have no authors"
      ]
    },
    {
      "cell_type": "code",
      "metadata": {
        "id": "OzI75lh2wVJp",
        "outputId": "ea1f2461-dd97-4435-96ae-3cdf6a000a70",
        "colab": {
          "base_uri": "https://localhost:8080/",
          "height": 204
        }
      },
      "source": [
        "null_authors_df = df[df['Author'].isnull()]\n",
        "null_authors_df.head()"
      ],
      "execution_count": null,
      "outputs": [
        {
          "output_type": "execute_result",
          "data": {
            "text/html": [
              "<div>\n",
              "<style scoped>\n",
              "    .dataframe tbody tr th:only-of-type {\n",
              "        vertical-align: middle;\n",
              "    }\n",
              "\n",
              "    .dataframe tbody tr th {\n",
              "        vertical-align: top;\n",
              "    }\n",
              "\n",
              "    .dataframe thead th {\n",
              "        text-align: right;\n",
              "    }\n",
              "</style>\n",
              "<table border=\"1\" class=\"dataframe\">\n",
              "  <thead>\n",
              "    <tr style=\"text-align: right;\">\n",
              "      <th></th>\n",
              "      <th>Date</th>\n",
              "      <th>Time</th>\n",
              "      <th>Author</th>\n",
              "      <th>Message</th>\n",
              "    </tr>\n",
              "  </thead>\n",
              "  <tbody>\n",
              "    <tr>\n",
              "      <th>0</th>\n",
              "      <td>02/10/2020</td>\n",
              "      <td>18:20</td>\n",
              "      <td>None</td>\n",
              "      <td>+254 799 619965 created group \"AI-ML\"</td>\n",
              "    </tr>\n",
              "    <tr>\n",
              "      <th>1</th>\n",
              "      <td>02/10/2020</td>\n",
              "      <td>18:23</td>\n",
              "      <td>None</td>\n",
              "      <td>You joined using this group's invite link</td>\n",
              "    </tr>\n",
              "    <tr>\n",
              "      <th>2</th>\n",
              "      <td>02/10/2020</td>\n",
              "      <td>18:23</td>\n",
              "      <td>None</td>\n",
              "      <td>+254 740 623000 joined using this group's invi...</td>\n",
              "    </tr>\n",
              "    <tr>\n",
              "      <th>3</th>\n",
              "      <td>02/10/2020</td>\n",
              "      <td>18:23</td>\n",
              "      <td>None</td>\n",
              "      <td>+254 719 379216 joined using this group's invi...</td>\n",
              "    </tr>\n",
              "    <tr>\n",
              "      <th>4</th>\n",
              "      <td>02/10/2020</td>\n",
              "      <td>18:23</td>\n",
              "      <td>None</td>\n",
              "      <td>+254 720 641526 joined using this group's invi...</td>\n",
              "    </tr>\n",
              "  </tbody>\n",
              "</table>\n",
              "</div>"
            ],
            "text/plain": [
              "         Date   Time Author                                            Message\n",
              "0  02/10/2020  18:20   None              +254 799 619965 created group \"AI-ML\"\n",
              "1  02/10/2020  18:23   None          You joined using this group's invite link\n",
              "2  02/10/2020  18:23   None  +254 740 623000 joined using this group's invi...\n",
              "3  02/10/2020  18:23   None  +254 719 379216 joined using this group's invi...\n",
              "4  02/10/2020  18:23   None  +254 720 641526 joined using this group's invi..."
            ]
          },
          "metadata": {
            "tags": []
          },
          "execution_count": 13
        }
      ]
    },
    {
      "cell_type": "code",
      "metadata": {
        "id": "wi9QSNCv5Dky"
      },
      "source": [
        "finding the number of messages that are sent by 20 authors"
      ],
      "execution_count": null,
      "outputs": []
    },
    {
      "cell_type": "code",
      "metadata": {
        "id": "I2OTalhexoyq",
        "outputId": "97f2bc63-7e9b-43d6-e102-504d607cafc9",
        "colab": {
          "base_uri": "https://localhost:8080/",
          "height": 333
        }
      },
      "source": [
        "media_messages_df = df[df['Message'] == '<Media omitted>']\n",
        "print(media_messages_df.head())\n",
        "\n",
        "author_media_messages_value_counts = media_messages_df['Author'].value_counts()\n",
        "top_10_author_media_messages_value_counts = author_media_messages_value_counts.head(20)\n",
        "top_10_author_media_messages_value_counts.plot.barh()"
      ],
      "execution_count": null,
      "outputs": [
        {
          "output_type": "stream",
          "text": [
            "           Date   Time    Author          Message\n",
            "121  07/10/2020  20:19  Debugger  <Media omitted>\n",
            "130  09/10/2020  21:04  Debugger  <Media omitted>\n"
          ],
          "name": "stdout"
        },
        {
          "output_type": "execute_result",
          "data": {
            "text/plain": [
              "<matplotlib.axes._subplots.AxesSubplot at 0x7f814d5b9e10>"
            ]
          },
          "metadata": {
            "tags": []
          },
          "execution_count": 14
        },
        {
          "output_type": "display_data",
          "data": {
            "image/png": "[encoded data removed]",
            "text/plain": [
              "<Figure size 432x288 with 1 Axes>"
            ]
          },
          "metadata": {
            "tags": [],
            "needs_background": "light"
          }
        }
      ]
    },
    {
      "cell_type": "code",
      "metadata": {
        "id": "Iu57i3gahVAR",
        "outputId": "bb413624-5393-4051-b6a5-4b01c0b9ac68",
        "colab": {
          "base_uri": "https://localhost:8080/",
          "height": 142
        }
      },
      "source": [
        "messages_df = df.drop(null_authors_df.index) # Drops all rows of the data frame containing messages from null authors\n",
        "messages_df = messages_df.drop(media_messages_df.index) # Drops all rows of the data frame containing media messages\n",
        "messages_df.head()"
      ],
      "execution_count": null,
      "outputs": [
        {
          "output_type": "execute_result",
          "data": {
            "text/html": [
              "<div>\n",
              "<style scoped>\n",
              "    .dataframe tbody tr th:only-of-type {\n",
              "        vertical-align: middle;\n",
              "    }\n",
              "\n",
              "    .dataframe tbody tr th {\n",
              "        vertical-align: top;\n",
              "    }\n",
              "\n",
              "    .dataframe thead th {\n",
              "        text-align: right;\n",
              "    }\n",
              "</style>\n",
              "<table border=\"1\" class=\"dataframe\">\n",
              "  <thead>\n",
              "    <tr style=\"text-align: right;\">\n",
              "      <th></th>\n",
              "      <th>Date</th>\n",
              "      <th>Time</th>\n",
              "      <th>Author</th>\n",
              "      <th>Message</th>\n",
              "    </tr>\n",
              "  </thead>\n",
              "  <tbody>\n",
              "    <tr>\n",
              "      <th>138</th>\n",
              "      <td>16/10/2020</td>\n",
              "      <td>15:40</td>\n",
              "      <td>Debugger</td>\n",
              "      <td>are you serious??</td>\n",
              "    </tr>\n",
              "    <tr>\n",
              "      <th>140</th>\n",
              "      <td>16/10/2020</td>\n",
              "      <td>15:41</td>\n",
              "      <td>Debugger</td>\n",
              "      <td>Acha kudanganya watu ankoo, lol</td>\n",
              "    </tr>\n",
              "    <tr>\n",
              "      <th>142</th>\n",
              "      <td>16/10/2020</td>\n",
              "      <td>15:46</td>\n",
              "      <td>Debugger</td>\n",
              "      <td>Haya sawasawa ankoo</td>\n",
              "    </tr>\n",
              "  </tbody>\n",
              "</table>\n",
              "</div>"
            ],
            "text/plain": [
              "           Date   Time    Author                          Message\n",
              "138  16/10/2020  15:40  Debugger                are you serious??\n",
              "140  16/10/2020  15:41  Debugger  Acha kudanganya watu ankoo, lol\n",
              "142  16/10/2020  15:46  Debugger              Haya sawasawa ankoo"
            ]
          },
          "metadata": {
            "tags": []
          },
          "execution_count": 23
        }
      ]
    },
    {
      "cell_type": "markdown",
      "metadata": {
        "id": "iw3NcxDT51FM"
      },
      "source": [
        "calculating the letters that has been used as well as words"
      ]
    },
    {
      "cell_type": "code",
      "metadata": {
        "id": "-KuIU3E3hYtL"
      },
      "source": [
        "\n",
        "messages_df['Letter_Count'] = messages_df['Message'].apply(lambda s : len(s))\n",
        "messages_df['Word_Count'] = messages_df['Message'].apply(lambda s : len(s.split(' ')))"
      ],
      "execution_count": null,
      "outputs": []
    },
    {
      "cell_type": "code",
      "metadata": {
        "id": "tLDy1M_xhi6J",
        "outputId": "6088465d-6319-4026-86c3-fb0065059c42",
        "colab": {
          "base_uri": "https://localhost:8080/",
          "height": 391
        }
      },
      "source": [
        "#you can skip this\n",
        "#discrete_columns = [['Date', 'Time', 'Author', 'Message']]\n",
        "#messages_df[discrete_columns].describe()\n",
        "\n",
        "#continuous_columns = [['Letter_Count', 'Word_Count']]\n",
        "#essages_df[continuous_columns].describe()"
      ],
      "execution_count": null,
      "outputs": [
        {
          "output_type": "error",
          "ename": "KeyError",
          "evalue": "ignored",
          "traceback": [
            "\u001b[0;31m---------------------------------------------------------------------------\u001b[0m",
            "\u001b[0;31mKeyError\u001b[0m                                  Traceback (most recent call last)",
            "\u001b[0;32m<ipython-input-25-5b6b149bdb53>\u001b[0m in \u001b[0;36m<module>\u001b[0;34m()\u001b[0m\n\u001b[1;32m      1\u001b[0m \u001b[0;34m\u001b[0m\u001b[0m\n\u001b[1;32m      2\u001b[0m \u001b[0mdiscrete_columns\u001b[0m \u001b[0;34m=\u001b[0m \u001b[0;34m[\u001b[0m\u001b[0;34m[\u001b[0m\u001b[0;34m'Date'\u001b[0m\u001b[0;34m,\u001b[0m \u001b[0;34m'Time'\u001b[0m\u001b[0;34m,\u001b[0m \u001b[0;34m'Author'\u001b[0m\u001b[0;34m,\u001b[0m \u001b[0;34m'Message'\u001b[0m\u001b[0;34m]\u001b[0m\u001b[0;34m]\u001b[0m\u001b[0;34m\u001b[0m\u001b[0;34m\u001b[0m\u001b[0m\n\u001b[0;32m----> 3\u001b[0;31m \u001b[0mmessages_df\u001b[0m\u001b[0;34m[\u001b[0m\u001b[0mdiscrete_columns\u001b[0m\u001b[0;34m]\u001b[0m\u001b[0;34m.\u001b[0m\u001b[0mdescribe\u001b[0m\u001b[0;34m(\u001b[0m\u001b[0;34m)\u001b[0m\u001b[0;34m\u001b[0m\u001b[0;34m\u001b[0m\u001b[0m\n\u001b[0m\u001b[1;32m      4\u001b[0m \u001b[0;34m\u001b[0m\u001b[0m\n\u001b[1;32m      5\u001b[0m \u001b[0mcontinuous_columns\u001b[0m \u001b[0;34m=\u001b[0m \u001b[0;34m[\u001b[0m\u001b[0;34m[\u001b[0m\u001b[0;34m'Letter_Count'\u001b[0m\u001b[0;34m,\u001b[0m \u001b[0;34m'Word_Count'\u001b[0m\u001b[0;34m]\u001b[0m\u001b[0;34m]\u001b[0m\u001b[0;34m\u001b[0m\u001b[0;34m\u001b[0m\u001b[0m\n",
            "\u001b[0;32m/usr/local/lib/python3.6/dist-packages/pandas/core/frame.py\u001b[0m in \u001b[0;36m__getitem__\u001b[0;34m(self, key)\u001b[0m\n\u001b[1;32m   2906\u001b[0m             \u001b[0;32mif\u001b[0m \u001b[0mis_iterator\u001b[0m\u001b[0;34m(\u001b[0m\u001b[0mkey\u001b[0m\u001b[0;34m)\u001b[0m\u001b[0;34m:\u001b[0m\u001b[0;34m\u001b[0m\u001b[0;34m\u001b[0m\u001b[0m\n\u001b[1;32m   2907\u001b[0m                 \u001b[0mkey\u001b[0m \u001b[0;34m=\u001b[0m \u001b[0mlist\u001b[0m\u001b[0;34m(\u001b[0m\u001b[0mkey\u001b[0m\u001b[0;34m)\u001b[0m\u001b[0;34m\u001b[0m\u001b[0;34m\u001b[0m\u001b[0m\n\u001b[0;32m-> 2908\u001b[0;31m             \u001b[0mindexer\u001b[0m \u001b[0;34m=\u001b[0m \u001b[0mself\u001b[0m\u001b[0;34m.\u001b[0m\u001b[0mloc\u001b[0m\u001b[0;34m.\u001b[0m\u001b[0m_get_listlike_indexer\u001b[0m\u001b[0;34m(\u001b[0m\u001b[0mkey\u001b[0m\u001b[0;34m,\u001b[0m \u001b[0maxis\u001b[0m\u001b[0;34m=\u001b[0m\u001b[0;36m1\u001b[0m\u001b[0;34m,\u001b[0m \u001b[0mraise_missing\u001b[0m\u001b[0;34m=\u001b[0m\u001b[0;32mTrue\u001b[0m\u001b[0;34m)\u001b[0m\u001b[0;34m[\u001b[0m\u001b[0;36m1\u001b[0m\u001b[0;34m]\u001b[0m\u001b[0;34m\u001b[0m\u001b[0;34m\u001b[0m\u001b[0m\n\u001b[0m\u001b[1;32m   2909\u001b[0m \u001b[0;34m\u001b[0m\u001b[0m\n\u001b[1;32m   2910\u001b[0m         \u001b[0;31m# take() does not accept boolean indexers\u001b[0m\u001b[0;34m\u001b[0m\u001b[0;34m\u001b[0m\u001b[0;34m\u001b[0m\u001b[0m\n",
            "\u001b[0;32m/usr/local/lib/python3.6/dist-packages/pandas/core/indexing.py\u001b[0m in \u001b[0;36m_get_listlike_indexer\u001b[0;34m(self, key, axis, raise_missing)\u001b[0m\n\u001b[1;32m   1252\u001b[0m             \u001b[0mkeyarr\u001b[0m\u001b[0;34m,\u001b[0m \u001b[0mindexer\u001b[0m\u001b[0;34m,\u001b[0m \u001b[0mnew_indexer\u001b[0m \u001b[0;34m=\u001b[0m \u001b[0max\u001b[0m\u001b[0;34m.\u001b[0m\u001b[0m_reindex_non_unique\u001b[0m\u001b[0;34m(\u001b[0m\u001b[0mkeyarr\u001b[0m\u001b[0;34m)\u001b[0m\u001b[0;34m\u001b[0m\u001b[0;34m\u001b[0m\u001b[0m\n\u001b[1;32m   1253\u001b[0m \u001b[0;34m\u001b[0m\u001b[0m\n\u001b[0;32m-> 1254\u001b[0;31m         \u001b[0mself\u001b[0m\u001b[0;34m.\u001b[0m\u001b[0m_validate_read_indexer\u001b[0m\u001b[0;34m(\u001b[0m\u001b[0mkeyarr\u001b[0m\u001b[0;34m,\u001b[0m \u001b[0mindexer\u001b[0m\u001b[0;34m,\u001b[0m \u001b[0maxis\u001b[0m\u001b[0;34m,\u001b[0m \u001b[0mraise_missing\u001b[0m\u001b[0;34m=\u001b[0m\u001b[0mraise_missing\u001b[0m\u001b[0;34m)\u001b[0m\u001b[0;34m\u001b[0m\u001b[0;34m\u001b[0m\u001b[0m\n\u001b[0m\u001b[1;32m   1255\u001b[0m         \u001b[0;32mreturn\u001b[0m \u001b[0mkeyarr\u001b[0m\u001b[0;34m,\u001b[0m \u001b[0mindexer\u001b[0m\u001b[0;34m\u001b[0m\u001b[0;34m\u001b[0m\u001b[0m\n\u001b[1;32m   1256\u001b[0m \u001b[0;34m\u001b[0m\u001b[0m\n",
            "\u001b[0;32m/usr/local/lib/python3.6/dist-packages/pandas/core/indexing.py\u001b[0m in \u001b[0;36m_validate_read_indexer\u001b[0;34m(self, key, indexer, axis, raise_missing)\u001b[0m\n\u001b[1;32m   1296\u001b[0m             \u001b[0;32mif\u001b[0m \u001b[0mmissing\u001b[0m \u001b[0;34m==\u001b[0m \u001b[0mlen\u001b[0m\u001b[0;34m(\u001b[0m\u001b[0mindexer\u001b[0m\u001b[0;34m)\u001b[0m\u001b[0;34m:\u001b[0m\u001b[0;34m\u001b[0m\u001b[0;34m\u001b[0m\u001b[0m\n\u001b[1;32m   1297\u001b[0m                 \u001b[0maxis_name\u001b[0m \u001b[0;34m=\u001b[0m \u001b[0mself\u001b[0m\u001b[0;34m.\u001b[0m\u001b[0mobj\u001b[0m\u001b[0;34m.\u001b[0m\u001b[0m_get_axis_name\u001b[0m\u001b[0;34m(\u001b[0m\u001b[0maxis\u001b[0m\u001b[0;34m)\u001b[0m\u001b[0;34m\u001b[0m\u001b[0;34m\u001b[0m\u001b[0m\n\u001b[0;32m-> 1298\u001b[0;31m                 \u001b[0;32mraise\u001b[0m \u001b[0mKeyError\u001b[0m\u001b[0;34m(\u001b[0m\u001b[0;34mf\"None of [{key}] are in the [{axis_name}]\"\u001b[0m\u001b[0;34m)\u001b[0m\u001b[0;34m\u001b[0m\u001b[0;34m\u001b[0m\u001b[0m\n\u001b[0m\u001b[1;32m   1299\u001b[0m \u001b[0;34m\u001b[0m\u001b[0m\n\u001b[1;32m   1300\u001b[0m             \u001b[0;31m# We (temporarily) allow for some missing keys with .loc, except in\u001b[0m\u001b[0;34m\u001b[0m\u001b[0;34m\u001b[0m\u001b[0;34m\u001b[0m\u001b[0m\n",
            "\u001b[0;31mKeyError\u001b[0m: \"None of [Index([('Date', 'Time', 'Author', 'Message')], dtype='object')] are in the [columns]\""
          ]
        }
      ]
    },
    {
      "cell_type": "code",
      "metadata": {
        "id": "FVJ1O95Gh6LA",
        "outputId": "1ffb768c-2f1e-4625-8172-1411d3c6d43c",
        "colab": {
          "base_uri": "https://localhost:8080/"
        }
      },
      "source": [
        "messages_df['Letter_Count'].sum(), messages_df['Word_Count'].sum()"
      ],
      "execution_count": null,
      "outputs": [
        {
          "output_type": "execute_result",
          "data": {
            "text/plain": [
              "(67, 11)"
            ]
          },
          "metadata": {
            "tags": []
          },
          "execution_count": 26
        }
      ]
    },
    {
      "cell_type": "code",
      "metadata": {
        "id": "KnRz-kBPiI7C",
        "outputId": "fb025c4d-b234-4105-a726-9662ddabf388",
        "colab": {
          "base_uri": "https://localhost:8080/",
          "height": 296
        }
      },
      "source": [
        "total_word_count_grouped_by_author = messages_df[['Author', 'Word_Count']].groupby('Author').sum()\n",
        "sorted_total_word_count_grouped_by_author = total_word_count_grouped_by_author.sort_values('Word_Count', ascending=False)\n",
        "top_10_sorted_total_word_count_grouped_by_author = sorted_total_word_count_grouped_by_author.head(10)\n",
        "top_10_sorted_total_word_count_grouped_by_author.plot.barh()\n",
        "plt.xlabel('Number of Words')\n",
        "plt.ylabel('Authors')"
      ],
      "execution_count": null,
      "outputs": [
        {
          "output_type": "execute_result",
          "data": {
            "text/plain": [
              "Text(0, 0.5, 'Authors')"
            ]
          },
          "metadata": {
            "tags": []
          },
          "execution_count": 27
        },
        {
          "output_type": "display_data",
          "data": {
            "image/png": "[encoded data removed]",
            "text/plain": [
              "<Figure size 432x288 with 1 Axes>"
            ]
          },
          "metadata": {
            "tags": [],
            "needs_background": "light"
          }
        }
      ]
    },
    {
      "cell_type": "markdown",
      "metadata": {
        "id": "Htl28tYm6QU3"
      },
      "source": [
        "getting the commonest words frequency of usage"
      ]
    },
    {
      "cell_type": "code",
      "metadata": {
        "id": "T_rcGH8Az5By",
        "outputId": "a2bce958-45b1-4de0-9fe1-9d46c132ad22",
        "colab": {
          "base_uri": "https://localhost:8080/",
          "height": 190
        }
      },
      "source": [
        "plt.figure(figsize=(15, 2))\n",
        "letter_count_value_counts = messages_df['Letter_Count'].value_counts()\n",
        "top_40_letter_count_value_counts = letter_count_value_counts.head(40)\n",
        "top_40_letter_count_value_counts.plot.bar()\n",
        "plt.xlabel('Letter count')\n",
        "plt.ylabel('Frequency')"
      ],
      "execution_count": null,
      "outputs": [
        {
          "output_type": "execute_result",
          "data": {
            "text/plain": [
              "Text(0, 0.5, 'Frequency')"
            ]
          },
          "metadata": {
            "tags": []
          },
          "execution_count": 28
        },
        {
          "output_type": "display_data",
          "data": {
            "image/png": "[encoded data removed]",
            "text/plain": [
              "<Figure size 1080x144 with 1 Axes>"
            ]
          },
          "metadata": {
            "tags": [],
            "needs_background": "light"
          }
        }
      ]
    },
    {
      "cell_type": "code",
      "metadata": {
        "id": "cXvI8NXIiZ5J",
        "outputId": "e95ddb75-b69b-4146-df05-e7b3f6f91223",
        "colab": {
          "base_uri": "https://localhost:8080/",
          "height": 296
        }
      },
      "source": [
        "total_letter_count_grouped_by_author = messages_df[['Author', 'Letter_Count']].groupby('Author').sum()\n",
        "sorted_total_letter_count_grouped_by_author = total_letter_count_grouped_by_author.sort_values('Letter_Count', ascending=False)\n",
        "top_10_sorted_total_letter_count_grouped_by_author = sorted_total_letter_count_grouped_by_author.head(10)\n",
        "top_10_sorted_total_letter_count_grouped_by_author.plot.barh()\n",
        "plt.xlabel('Number of Letters')\n",
        "plt.ylabel('Authors')"
      ],
      "execution_count": null,
      "outputs": [
        {
          "output_type": "execute_result",
          "data": {
            "text/plain": [
              "Text(0, 0.5, 'Authors')"
            ]
          },
          "metadata": {
            "tags": []
          },
          "execution_count": 29
        },
        {
          "output_type": "display_data",
          "data": {
            "image/png": "[encoded data removed]",
            "text/plain": [
              "<Figure size 432x288 with 1 Axes>"
            ]
          },
          "metadata": {
            "tags": [],
            "needs_background": "light"
          }
        }
      ]
    },
    {
      "cell_type": "code",
      "metadata": {
        "id": "9oVhfCa3ifwv",
        "outputId": "99ceaa96-5a1d-4d4b-b278-2e2b73e6d29f",
        "colab": {
          "base_uri": "https://localhost:8080/",
          "height": 190
        }
      },
      "source": [
        "plt.figure(figsize=(15, 2))\n",
        "letter_count_value_counts = messages_df['Letter_Count'].value_counts()\n",
        "top_40_letter_count_value_counts = letter_count_value_counts.head(40)\n",
        "top_40_letter_count_value_counts.plot.bar()\n",
        "plt.xlabel('Letter count')\n",
        "plt.ylabel('Frequency')"
      ],
      "execution_count": null,
      "outputs": [
        {
          "output_type": "execute_result",
          "data": {
            "text/plain": [
              "Text(0, 0.5, 'Frequency')"
            ]
          },
          "metadata": {
            "tags": []
          },
          "execution_count": 30
        },
        {
          "output_type": "display_data",
          "data": {
            "image/png": "[encoded data removed]",
            "text/plain": [
              "<Figure size 1080x144 with 1 Axes>"
            ]
          },
          "metadata": {
            "tags": [],
            "needs_background": "light"
          }
        }
      ]
    },
    {
      "cell_type": "markdown",
      "metadata": {
        "id": "Udseh1i86egP"
      },
      "source": [
        "getting the date by which most of messages were sent"
      ]
    },
    {
      "cell_type": "code",
      "metadata": {
        "id": "VeLFzDHPz4nF",
        "outputId": "d4e1602b-e07d-48d6-92b3-0d97688f6324",
        "colab": {
          "base_uri": "https://localhost:8080/",
          "height": 296
        }
      },
      "source": [
        "messages_df['Date'].value_counts().head(10).plot.barh() # Top 10 Dates on which the most number of messages were sent\n",
        "plt.xlabel('Number of Messages')\n",
        "plt.ylabel('Date')"
      ],
      "execution_count": null,
      "outputs": [
        {
          "output_type": "execute_result",
          "data": {
            "text/plain": [
              "Text(0, 0.5, 'Date')"
            ]
          },
          "metadata": {
            "tags": []
          },
          "execution_count": 31
        },
        {
          "output_type": "display_data",
          "data": {
            "image/png": "[encoded data removed]",
            "text/plain": [
              "<Figure size 432x288 with 1 Axes>"
            ]
          },
          "metadata": {
            "tags": [],
            "needs_background": "light"
          }
        }
      ]
    },
    {
      "cell_type": "markdown",
      "metadata": {
        "id": "bdsAIztt6nFi"
      },
      "source": [
        "the time the group is most active"
      ]
    },
    {
      "cell_type": "code",
      "metadata": {
        "id": "VOnW04u50Ezw",
        "outputId": "d661b95e-a8db-4c03-a0fc-ea8add8a0ee2",
        "colab": {
          "base_uri": "https://localhost:8080/",
          "height": 296
        }
      },
      "source": [
        "messages_df['Time'].value_counts().head(10).plot.barh() # Top 10 Times of the day at which the most number of messages were sent\n",
        "plt.xlabel('Number of messages')\n",
        "plt.ylabel('Time')"
      ],
      "execution_count": null,
      "outputs": [
        {
          "output_type": "execute_result",
          "data": {
            "text/plain": [
              "Text(0, 0.5, 'Time')"
            ]
          },
          "metadata": {
            "tags": []
          },
          "execution_count": 32
        },
        {
          "output_type": "display_data",
          "data": {
            "image/png": "[encoded data removed]",
            "text/plain": [
              "<Figure size 432x288 with 1 Axes>"
            ]
          },
          "metadata": {
            "tags": [],
            "needs_background": "light"
          }
        }
      ]
    },
    {
      "cell_type": "code",
      "metadata": {
        "id": "_9TQto9v0EmB"
      },
      "source": [
        "messages_df['Hour'] = messages_df['Time'].apply(lambda x : x.split(':')[0]) # The first token of a value in the Time Column contains the hour (Eg., \"20\" in \"20:15\")\n"
      ],
      "execution_count": null,
      "outputs": []
    },
    {
      "cell_type": "markdown",
      "metadata": {
        "id": "YV51jUae63VT"
      },
      "source": [
        "time of day the group is most active"
      ]
    },
    {
      "cell_type": "code",
      "metadata": {
        "id": "S7iZei570KaW",
        "outputId": "bde4eb03-163c-4c83-ef40-43654dd91a3c",
        "colab": {
          "base_uri": "https://localhost:8080/",
          "height": 296
        }
      },
      "source": [
        "messages_df['Hour'].value_counts().head(10).sort_index(ascending=False).plot.barh() # Top 10 Hours of the day during which the most number of messages were sent\n",
        "plt.xlabel('Number of messages')\n",
        "plt.ylabel('Hour of Day')"
      ],
      "execution_count": null,
      "outputs": [
        {
          "output_type": "execute_result",
          "data": {
            "text/plain": [
              "Text(0, 0.5, 'Hour of Day')"
            ]
          },
          "metadata": {
            "tags": []
          },
          "execution_count": 34
        },
        {
          "output_type": "display_data",
          "data": {
            "image/png": "[encoded data removed]",
            "text/plain": [
              "<Figure size 432x288 with 1 Axes>"
            ]
          },
          "metadata": {
            "tags": [],
            "needs_background": "light"
          }
        }
      ]
    },
    {
      "cell_type": "markdown",
      "metadata": {
        "id": "NeI4fnP9ivYc"
      },
      "source": [
        "you will note that the author is just one,and thats me 'debugger', the reason is because that's the only person whose name is recognized(saved in my contacts). I wish I had your names It would have given a better result.\n",
        "**Feel free to modify,if you have several number of people you have saved in your contact list it will be better**\n"
      ]
    },
    {
      "cell_type": "markdown",
      "metadata": {
        "id": "6A5z6I6CjuUi"
      },
      "source": [
        "Incase you get to learn something new and you would like to share with me or another technique you think I dont know or query, my whatsapp Number is **+254705508169**"
      ]
    },
    {
      "cell_type": "code",
      "metadata": {
        "id": "y4fEGSe00Kyl"
      },
      "source": [
        ""
      ],
      "execution_count": null,
      "outputs": []
    },
    {
      "cell_type": "code",
      "metadata": {
        "id": "UOK6x5L70KK3"
      },
      "source": [
        ""
      ],
      "execution_count": null,
      "outputs": []
    }
  ]
}